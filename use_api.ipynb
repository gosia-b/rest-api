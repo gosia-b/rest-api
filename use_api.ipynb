{
 "cells": [
  {
   "cell_type": "code",
   "execution_count": 1,
   "id": "e3cae4be",
   "metadata": {},
   "outputs": [],
   "source": [
    "import requests"
   ]
  },
  {
   "cell_type": "markdown",
   "id": "bbc61b60",
   "metadata": {},
   "source": [
    "# POST /users"
   ]
  },
  {
   "cell_type": "code",
   "execution_count": 2,
   "id": "1d7ee8db",
   "metadata": {},
   "outputs": [],
   "source": [
    "users = [\n",
    "    {'name': 'Colleen Brown', 'email': 'colleen.brown@example.com', 'address': '3904 First Street', 'phone': '(908) 256-2784'},\n",
    "    {'name': 'Christian Fletcher', 'email': 'christian.fletcher@example.com', 'address': '7494 James St', 'phone': '(563) 518-9948'},\n",
    "    {'name': 'Jon Elliott', 'email': 'jon.elliott@example.com', 'address': '8067 Stevens Creek Blvd', 'phone': '(551) 760-2152'},\n",
    "    {'name': 'Joy Morris', 'email': 'joy.morris@example.com', 'address': '9018 W Sherman Dr', 'phone': '(701) 539-7575'},\n",
    "]"
   ]
  },
  {
   "cell_type": "code",
   "execution_count": 3,
   "id": "e84288dd",
   "metadata": {},
   "outputs": [],
   "source": [
    "url = 'http://localhost:5000/users'\n",
    "\n",
    "for json in users:\n",
    "    response = requests.post(url, json=json)"
   ]
  },
  {
   "cell_type": "code",
   "execution_count": 4,
   "id": "1b1fe75b",
   "metadata": {},
   "outputs": [
    {
     "data": {
      "text/plain": [
       "200"
      ]
     },
     "execution_count": 4,
     "metadata": {},
     "output_type": "execute_result"
    }
   ],
   "source": [
    "response.status_code"
   ]
  },
  {
   "cell_type": "code",
   "execution_count": 5,
   "id": "ae49d6f3",
   "metadata": {},
   "outputs": [
    {
     "data": {
      "text/plain": [
       "True"
      ]
     },
     "execution_count": 5,
     "metadata": {},
     "output_type": "execute_result"
    }
   ],
   "source": [
    "response.json()"
   ]
  },
  {
   "cell_type": "markdown",
   "id": "e2550ba1",
   "metadata": {},
   "source": [
    "# GET /users"
   ]
  },
  {
   "cell_type": "code",
   "execution_count": 6,
   "id": "b82e925c",
   "metadata": {},
   "outputs": [
    {
     "data": {
      "text/plain": [
       "200"
      ]
     },
     "execution_count": 6,
     "metadata": {},
     "output_type": "execute_result"
    }
   ],
   "source": [
    "url = 'http://localhost:5000/users'\n",
    "response = requests.get(url)\n",
    "response.status_code"
   ]
  },
  {
   "cell_type": "code",
   "execution_count": 7,
   "id": "23d03b3f",
   "metadata": {},
   "outputs": [
    {
     "data": {
      "text/plain": [
       "[[1,\n",
       "  'Colleen Brown',\n",
       "  'colleen.brown@example.com',\n",
       "  '3904 First Street',\n",
       "  '(908) 256-2784'],\n",
       " [2,\n",
       "  'Christian Fletcher',\n",
       "  'christian.fletcher@example.com',\n",
       "  '7494 James St',\n",
       "  '(563) 518-9948'],\n",
       " [3,\n",
       "  'Jon Elliott',\n",
       "  'jon.elliott@example.com',\n",
       "  '8067 Stevens Creek Blvd',\n",
       "  '(551) 760-2152'],\n",
       " [4,\n",
       "  'Joy Morris',\n",
       "  'joy.morris@example.com',\n",
       "  '9018 W Sherman Dr',\n",
       "  '(701) 539-7575']]"
      ]
     },
     "execution_count": 7,
     "metadata": {},
     "output_type": "execute_result"
    }
   ],
   "source": [
    "response.json()"
   ]
  },
  {
   "cell_type": "code",
   "execution_count": null,
   "id": "f629c6d1",
   "metadata": {},
   "outputs": [],
   "source": []
  }
 ],
 "metadata": {
  "kernelspec": {
   "display_name": "Python 3 (ipykernel)",
   "language": "python",
   "name": "python3"
  },
  "language_info": {
   "codemirror_mode": {
    "name": "ipython",
    "version": 3
   },
   "file_extension": ".py",
   "mimetype": "text/x-python",
   "name": "python",
   "nbconvert_exporter": "python",
   "pygments_lexer": "ipython3",
   "version": "3.9.7"
  }
 },
 "nbformat": 4,
 "nbformat_minor": 5
}

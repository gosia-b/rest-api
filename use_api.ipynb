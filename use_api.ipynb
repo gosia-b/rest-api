{
 "cells": [
  {
   "cell_type": "code",
   "execution_count": 1,
   "id": "e3cae4be",
   "metadata": {},
   "outputs": [],
   "source": [
    "import requests"
   ]
  },
  {
   "cell_type": "markdown",
   "id": "bbc61b60",
   "metadata": {},
   "source": [
    "# POST /users"
   ]
  },
  {
   "cell_type": "code",
   "execution_count": 2,
   "id": "1d7ee8db",
   "metadata": {},
   "outputs": [],
   "source": [
    "users = [\n",
    "    {'name': 'Person One', 'email': 'colleen.brown@example.com', 'address': '3904 First Street', 'phone': '(908) 256-2784'},\n",
    "    {'name': 'Person Two', 'email': 'christian.fletcher@example.com', 'address': '7494 James St', 'phone': '(563) 518-9948'},\n",
    "    {'name': 'Person Three', 'email': 'jon.elliott@example.com', 'address': '8067 Stevens Creek Blvd', 'phone': '(551) 760-2152'},\n",
    "    {'name': 'Person Four', 'email': 'joy.morris@example.com', 'address': '9018 W Sherman Dr', 'phone': '(701) 539-7575'},\n",
    "]"
   ]
  },
  {
   "cell_type": "code",
   "execution_count": null,
   "id": "e84288dd",
   "metadata": {},
   "outputs": [],
   "source": [
    "url = 'http://localhost:5000/users'\n",
    "\n",
    "for json in users:\n",
    "    response = requests.post(url, json=json)"
   ]
  },
  {
   "cell_type": "code",
   "execution_count": null,
   "id": "1b1fe75b",
   "metadata": {},
   "outputs": [],
   "source": [
    "response.status_code"
   ]
  },
  {
   "cell_type": "code",
   "execution_count": null,
   "id": "ae49d6f3",
   "metadata": {},
   "outputs": [],
   "source": [
    "response.json()"
   ]
  },
  {
   "cell_type": "markdown",
   "id": "e2550ba1",
   "metadata": {},
   "source": [
    "# GET /users"
   ]
  },
  {
   "cell_type": "code",
   "execution_count": null,
   "id": "b82e925c",
   "metadata": {},
   "outputs": [],
   "source": [
    "url = 'http://localhost:5000/users'\n",
    "response = requests.get(url)\n",
    "response.status_code"
   ]
  },
  {
   "cell_type": "code",
   "execution_count": null,
   "id": "23d03b3f",
   "metadata": {},
   "outputs": [],
   "source": [
    "response.json()"
   ]
  },
  {
   "cell_type": "markdown",
   "id": "01162bc2",
   "metadata": {},
   "source": [
    "# GET /users/{user_id}"
   ]
  },
  {
   "cell_type": "code",
   "execution_count": null,
   "id": "f3b9d584",
   "metadata": {},
   "outputs": [],
   "source": [
    "user_id = 3\n",
    "\n",
    "url = f'http://localhost:5000/users/{user_id}'\n",
    "response = requests.get(url)\n",
    "response.status_code"
   ]
  },
  {
   "cell_type": "code",
   "execution_count": null,
   "id": "7781923e",
   "metadata": {},
   "outputs": [],
   "source": [
    "response.json()"
   ]
  },
  {
   "cell_type": "markdown",
   "id": "aa80e87e",
   "metadata": {},
   "source": [
    "# PUT /users/{user_id}"
   ]
  },
  {
   "cell_type": "code",
   "execution_count": null,
   "id": "d61aa8ab",
   "metadata": {},
   "outputs": [],
   "source": [
    "user_id = 2\n",
    "json = {'name': '?', 'email': '?', 'address': '?', 'phone': '?'}\n",
    "\n",
    "url = f'http://localhost:5000/users/{user_id}'\n",
    "response = requests.put(url, json=json)\n",
    "response.status_code"
   ]
  },
  {
   "cell_type": "markdown",
   "id": "41eb9592",
   "metadata": {},
   "source": [
    "# DELETE /users/{user_id}"
   ]
  },
  {
   "cell_type": "code",
   "execution_count": null,
   "id": "f408f040",
   "metadata": {},
   "outputs": [],
   "source": [
    "user_id = 3\n",
    "\n",
    "url = f'http://localhost:5000/users/{user_id}'\n",
    "response = requests.delete(url)\n",
    "response.status_code"
   ]
  },
  {
   "cell_type": "markdown",
   "id": "d0140a02",
   "metadata": {},
   "source": [
    "# See what changed in the users database"
   ]
  },
  {
   "cell_type": "code",
   "execution_count": null,
   "id": "747c44f5",
   "metadata": {},
   "outputs": [],
   "source": [
    "url = 'http://localhost:5000/users'\n",
    "response = requests.get(url)\n",
    "response.json()"
   ]
  }
 ],
 "metadata": {
  "kernelspec": {
   "display_name": "Python 3 (ipykernel)",
   "language": "python",
   "name": "python3"
  },
  "language_info": {
   "codemirror_mode": {
    "name": "ipython",
    "version": 3
   },
   "file_extension": ".py",
   "mimetype": "text/x-python",
   "name": "python",
   "nbconvert_exporter": "python",
   "pygments_lexer": "ipython3",
   "version": "3.9.7"
  }
 },
 "nbformat": 4,
 "nbformat_minor": 5
}
